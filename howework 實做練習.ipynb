{
  "cells": [
    {
      "metadata": {
        "collapsed": true
      },
      "cell_type": "markdown",
      "source": "## 抽一個任意數"
    },
    {
      "metadata": {
        "trusted": false
      },
      "cell_type": "code",
      "source": "import numpy as np\nfrom ipywidgets import interact,interact_manual",
      "execution_count": 1,
      "outputs": []
    },
    {
      "metadata": {
        "trusted": false
      },
      "cell_type": "code",
      "source": "stduent = [\"A\",\"B\",\"C\",\"D\"]",
      "execution_count": 9,
      "outputs": []
    },
    {
      "metadata": {
        "trusted": false
      },
      "cell_type": "code",
      "source": "def pick(n):\n    luckyone = np.random.choice(stduent)\n    print(\"你抽到的人是\" + luckyone)\n    #interact_manual(student)",
      "execution_count": 24,
      "outputs": []
    },
    {
      "metadata": {
        "trusted": false
      },
      "cell_type": "code",
      "source": "interact_manual(pick, n =1)",
      "execution_count": 26,
      "outputs": [
        {
          "data": {
            "application/vnd.jupyter.widget-view+json": {
              "model_id": "86d9e314eae24f21952e2cddc867568c",
              "version_major": 2,
              "version_minor": 0
            },
            "text/plain": "interactive(children=(IntSlider(value=1, description='n', max=3, min=-1), Button(description='Run Interact', s…"
          },
          "metadata": {},
          "output_type": "display_data"
        },
        {
          "data": {
            "text/plain": "<function __main__.pick>"
          },
          "execution_count": 26,
          "metadata": {},
          "output_type": "execute_result"
        }
      ]
    },
    {
      "metadata": {},
      "cell_type": "markdown",
      "source": "## 變長變短"
    },
    {
      "metadata": {
        "trusted": false
      },
      "cell_type": "code",
      "source": "import numpy as np\nfrom ipywidgets import interact,interact_manual",
      "execution_count": 27,
      "outputs": []
    },
    {
      "metadata": {
        "trusted": false
      },
      "cell_type": "code",
      "source": "def change(n):\n    print(\" \"*n+'口口口口口口')",
      "execution_count": 28,
      "outputs": []
    },
    {
      "metadata": {
        "trusted": false
      },
      "cell_type": "code",
      "source": "interact(change, n=(1,100))",
      "execution_count": 33,
      "outputs": [
        {
          "data": {
            "application/vnd.jupyter.widget-view+json": {
              "model_id": "1cdf4c35c50c4417a50f177fb84a15da",
              "version_major": 2,
              "version_minor": 0
            },
            "text/plain": "interactive(children=(IntSlider(value=50, description='n', min=1), Output()), _dom_classes=('widget-interact',…"
          },
          "metadata": {},
          "output_type": "display_data"
        },
        {
          "data": {
            "text/plain": "<function __main__.change>"
          },
          "execution_count": 33,
          "metadata": {},
          "output_type": "execute_result"
        }
      ]
    },
    {
      "metadata": {},
      "cell_type": "markdown",
      "source": "## 計算加權分數"
    },
    {
      "metadata": {
        "trusted": false
      },
      "cell_type": "code",
      "source": "import numpy as np\nfrom ipywidgets import interact,interact_manual",
      "execution_count": 79,
      "outputs": []
    },
    {
      "metadata": {
        "trusted": false
      },
      "cell_type": "code",
      "source": "weight = {\n\"土語系\": [2, 2, 0, 1, 0, 0, 0, 1, 1, 0],\n\"財政系\": [1, 1.5, 0, 1.5, 0, 0, 0, 0, 0, 0],\n\"金融系\": [1, 1.5, 0, 2, 0, 0, 0, 0, 0, 0],\n\"國貿系\": [1.5, 2, 0, 2, 0, 0, 0, 0, 0, 0],\n\"會計系\": [1.5, 2, 0, 2, 0, 0, 0, 1, 1, 0],\n\"法律系\": [1, 2, 0, 1, 0, 0, 0, 1, 0, 1],\n\"公行系\": [1, 1.5, 0, 1.25, 0, 0, 0, 0, 0, 1.25],\n\"應數系\": [1, 1, 1.5, 0, 1, 1, 0, 0, 0, 0],\n\"教育系\": [1.5, 2, 0, 1.25, 0, 0, 0, 1, 1, 0]\n} ",
      "execution_count": 80,
      "outputs": []
    },
    {
      "metadata": {
        "trusted": false
      },
      "cell_type": "code",
      "source": "weight.get(\"土語系\")",
      "execution_count": 38,
      "outputs": [
        {
          "data": {
            "text/plain": "[2, 2, 0, 1, 0, 0, 0, 1, 1, 0]"
          },
          "execution_count": 38,
          "metadata": {},
          "output_type": "execute_result"
        }
      ]
    },
    {
      "metadata": {
        "trusted": false
      },
      "cell_type": "code",
      "source": "myscore =np.array([86.5, 79.4, 88.2, 96.5, 86.3, 76.8, 96.1, 78.5, 82.4, 88.6])",
      "execution_count": 81,
      "outputs": []
    },
    {
      "metadata": {
        "trusted": false
      },
      "cell_type": "code",
      "source": "weight.get(\"土語系\")*myscore",
      "execution_count": 48,
      "outputs": [
        {
          "data": {
            "text/plain": "array([173. , 158.8,   0. ,  96.5,   0. ,   0. ,   0. ,  78.5,  82.4,\n         0. ])"
          },
          "execution_count": 48,
          "metadata": {},
          "output_type": "execute_result"
        }
      ]
    },
    {
      "metadata": {
        "trusted": false
      },
      "cell_type": "code",
      "source": "def cal(n):\n    a = weight.get(n)*myscore\n    print(np.sum(a))",
      "execution_count": 90,
      "outputs": []
    },
    {
      "metadata": {
        "trusted": false
      },
      "cell_type": "code",
      "source": "interact_manual(cal, n = weight.keys())",
      "execution_count": 91,
      "outputs": [
        {
          "data": {
            "application/vnd.jupyter.widget-view+json": {
              "model_id": "0e40327146ea4e94bf2d83af21653556",
              "version_major": 2,
              "version_minor": 0
            },
            "text/plain": "interactive(children=(Dropdown(description='n', options=('土語系', '財政系', '金融系', '國貿系', '會計系', '法律系', '公行系', '應數系…"
          },
          "metadata": {},
          "output_type": "display_data"
        },
        {
          "data": {
            "text/plain": "<function __main__.cal>"
          },
          "execution_count": 91,
          "metadata": {},
          "output_type": "execute_result"
        }
      ]
    },
    {
      "metadata": {},
      "cell_type": "markdown",
      "source": "<font color=red size=4 face=\"黑体\">氫氣比例計算機"
    },
    {
      "metadata": {
        "trusted": false
      },
      "cell_type": "code",
      "source": "def h2(n):\n    a = 100*0.054/(100*(1-0.054)+n)\n    print(a*100 )",
      "execution_count": 104,
      "outputs": []
    },
    {
      "metadata": {
        "trusted": false
      },
      "cell_type": "code",
      "source": "interact(h2, n=(0,600))",
      "execution_count": 105,
      "outputs": [
        {
          "data": {
            "application/vnd.jupyter.widget-view+json": {
              "model_id": "c79e9128004244718bbf581446f51a31",
              "version_major": 2,
              "version_minor": 0
            },
            "text/plain": "interactive(children=(IntSlider(value=300, description='n', max=600), Output()), _dom_classes=('widget-interac…"
          },
          "metadata": {},
          "output_type": "display_data"
        },
        {
          "data": {
            "text/plain": "<function __main__.h2>"
          },
          "execution_count": 105,
          "metadata": {},
          "output_type": "execute_result"
        }
      ]
    },
    {
      "metadata": {
        "trusted": false
      },
      "cell_type": "code",
      "source": "",
      "execution_count": null,
      "outputs": []
    }
  ],
  "metadata": {
    "kernelspec": {
      "name": "python36",
      "display_name": "Python 3.6",
      "language": "python"
    },
    "language_info": {
      "mimetype": "text/x-python",
      "nbconvert_exporter": "python",
      "name": "python",
      "pygments_lexer": "ipython3",
      "version": "3.6.3",
      "file_extension": ".py",
      "codemirror_mode": {
        "version": 3,
        "name": "ipython"
      }
    }
  },
  "nbformat": 4,
  "nbformat_minor": 2
}