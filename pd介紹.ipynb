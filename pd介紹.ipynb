{
  "cells": [
    {
      "metadata": {
        "collapsed": true
      },
      "cell_type": "markdown",
      "source": "# Pandas"
    },
    {
      "metadata": {
        "trusted": false
      },
      "cell_type": "code",
      "source": "%matplotlib inline\nimport numpy as np\nimport matplotlib.pyplot as plt\nimport pandas as pd",
      "execution_count": null,
      "outputs": []
    },
    {
      "metadata": {
        "trusted": false
      },
      "cell_type": "code",
      "source": "%ls #list all file in the same folder",
      "execution_count": 8,
      "outputs": [
        {
          "name": "stdout",
          "output_type": "stream",
          "text": "2018-mooc beginnerpython 散佈圖.ipynb  Python Pandas introduction.ipynb\r\ngrades.csv                             Python互動功能.ipynb\r\nMOOC python 3 excise.ipynb             README.md\r\n"
        }
      ]
    },
    {
      "metadata": {
        "trusted": false
      },
      "cell_type": "code",
      "source": "df = pd.read_csv(\"grades.csv\") #read csv and as dataframe",
      "execution_count": 12,
      "outputs": []
    },
    {
      "metadata": {
        "trusted": false
      },
      "cell_type": "code",
      "source": "df.head() #看前五行",
      "execution_count": 14,
      "outputs": [
        {
          "data": {
            "text/html": "<div>\n<style>\n    .dataframe thead tr:only-child th {\n        text-align: right;\n    }\n\n    .dataframe thead th {\n        text-align: left;\n    }\n\n    .dataframe tbody tr th {\n        vertical-align: top;\n    }\n</style>\n<table border=\"1\" class=\"dataframe\">\n  <thead>\n    <tr style=\"text-align: right;\">\n      <th></th>\n      <th>姓名</th>\n      <th>國文</th>\n      <th>英文</th>\n      <th>數學</th>\n      <th>自然</th>\n      <th>社會</th>\n    </tr>\n  </thead>\n  <tbody>\n    <tr>\n      <th>0</th>\n      <td>劉俊安</td>\n      <td>9</td>\n      <td>10</td>\n      <td>15</td>\n      <td>10</td>\n      <td>13</td>\n    </tr>\n    <tr>\n      <th>1</th>\n      <td>胡玉華</td>\n      <td>10</td>\n      <td>10</td>\n      <td>10</td>\n      <td>8</td>\n      <td>9</td>\n    </tr>\n    <tr>\n      <th>2</th>\n      <td>黃淑婷</td>\n      <td>13</td>\n      <td>15</td>\n      <td>8</td>\n      <td>11</td>\n      <td>14</td>\n    </tr>\n    <tr>\n      <th>3</th>\n      <td>陳上紫</td>\n      <td>10</td>\n      <td>10</td>\n      <td>8</td>\n      <td>9</td>\n      <td>14</td>\n    </tr>\n    <tr>\n      <th>4</th>\n      <td>崔靜成</td>\n      <td>13</td>\n      <td>12</td>\n      <td>14</td>\n      <td>12</td>\n      <td>13</td>\n    </tr>\n  </tbody>\n</table>\n</div>",
            "text/plain": "    姓名  國文  英文  數學  自然  社會\n0  劉俊安   9  10  15  10  13\n1  胡玉華  10  10  10   8   9\n2  黃淑婷  13  15   8  11  14\n3  陳上紫  10  10   8   9  14\n4  崔靜成  13  12  14  12  13"
          },
          "execution_count": 14,
          "metadata": {},
          "output_type": "execute_result"
        }
      ]
    },
    {
      "metadata": {
        "trusted": true
      },
      "cell_type": "code",
      "source": "# df[\"英文\"] #擷取單列",
      "execution_count": 2,
      "outputs": []
    },
    {
      "metadata": {
        "trusted": true
      },
      "cell_type": "code",
      "source": "# df.國文",
      "execution_count": 1,
      "outputs": []
    },
    {
      "metadata": {
        "trusted": false
      },
      "cell_type": "code",
      "source": "cg = df.國文.values #單欄轉array",
      "execution_count": 20,
      "outputs": []
    },
    {
      "metadata": {
        "trusted": false
      },
      "cell_type": "code",
      "source": "cg.mean() #單欄轉array-->取平均值",
      "execution_count": 27,
      "outputs": [
        {
          "data": {
            "text/plain": "11.39"
          },
          "execution_count": 27,
          "metadata": {},
          "output_type": "execute_result"
        }
      ]
    },
    {
      "metadata": {
        "trusted": false
      },
      "cell_type": "code",
      "source": "cg.std() #單欄轉array-->取SD",
      "execution_count": 26,
      "outputs": [
        {
          "data": {
            "text/plain": "2.1858407993264284"
          },
          "execution_count": 26,
          "metadata": {},
          "output_type": "execute_result"
        }
      ]
    },
    {
      "metadata": {
        "trusted": false
      },
      "cell_type": "code",
      "source": "df.國文.plot()",
      "execution_count": 29,
      "outputs": [
        {
          "data": {
            "text/plain": "<matplotlib.axes._subplots.AxesSubplot at 0x7f25215941d0>"
          },
          "execution_count": 29,
          "metadata": {},
          "output_type": "execute_result"
        },
        {
          "data": {
            "image/png": "[encoded data removed]",
            "text/plain": "<matplotlib.figure.Figure at 0x7f2521598080>"
          },
          "metadata": {},
          "output_type": "display_data"
        }
      ]
    },
    {
      "metadata": {
        "trusted": false
      },
      "cell_type": "code",
      "source": "df.國文.hist(bins=15) #直方圖",
      "execution_count": 32,
      "outputs": [
        {
          "data": {
            "text/plain": "<matplotlib.axes._subplots.AxesSubplot at 0x7f25210925f8>"
          },
          "execution_count": 32,
          "metadata": {},
          "output_type": "execute_result"
        },
        {
          "data": {
            "image/png": "[encoded data removed]",
            "text/plain": "<matplotlib.figure.Figure at 0x7f25210a49e8>"
          },
          "metadata": {},
          "output_type": "display_data"
        }
      ]
    },
    {
      "metadata": {},
      "cell_type": "markdown",
      "source": "## Pandas數據分析"
    },
    {
      "metadata": {
        "trusted": false
      },
      "cell_type": "code",
      "source": "df.describe() #敘述統計",
      "execution_count": 35,
      "outputs": [
        {
          "data": {
            "text/html": "<div>\n<style>\n    .dataframe thead tr:only-child th {\n        text-align: right;\n    }\n\n    .dataframe thead th {\n        text-align: left;\n    }\n\n    .dataframe tbody tr th {\n        vertical-align: top;\n    }\n</style>\n<table border=\"1\" class=\"dataframe\">\n  <thead>\n    <tr style=\"text-align: right;\">\n      <th></th>\n      <th>國文</th>\n      <th>英文</th>\n      <th>數學</th>\n      <th>自然</th>\n      <th>社會</th>\n    </tr>\n  </thead>\n  <tbody>\n    <tr>\n      <th>count</th>\n      <td>100.000000</td>\n      <td>100.000000</td>\n      <td>100.000000</td>\n      <td>100.00000</td>\n      <td>100.00000</td>\n    </tr>\n    <tr>\n      <th>mean</th>\n      <td>11.390000</td>\n      <td>11.380000</td>\n      <td>11.570000</td>\n      <td>11.03000</td>\n      <td>11.83000</td>\n    </tr>\n    <tr>\n      <th>std</th>\n      <td>2.196853</td>\n      <td>2.273164</td>\n      <td>2.310516</td>\n      <td>2.21772</td>\n      <td>2.48655</td>\n    </tr>\n    <tr>\n      <th>min</th>\n      <td>8.000000</td>\n      <td>8.000000</td>\n      <td>8.000000</td>\n      <td>8.00000</td>\n      <td>8.00000</td>\n    </tr>\n    <tr>\n      <th>25%</th>\n      <td>9.000000</td>\n      <td>9.000000</td>\n      <td>10.000000</td>\n      <td>9.00000</td>\n      <td>9.00000</td>\n    </tr>\n    <tr>\n      <th>50%</th>\n      <td>11.000000</td>\n      <td>11.000000</td>\n      <td>11.000000</td>\n      <td>11.00000</td>\n      <td>12.00000</td>\n    </tr>\n    <tr>\n      <th>75%</th>\n      <td>13.000000</td>\n      <td>13.000000</td>\n      <td>14.000000</td>\n      <td>13.00000</td>\n      <td>14.00000</td>\n    </tr>\n    <tr>\n      <th>max</th>\n      <td>15.000000</td>\n      <td>15.000000</td>\n      <td>15.000000</td>\n      <td>15.00000</td>\n      <td>15.00000</td>\n    </tr>\n  </tbody>\n</table>\n</div>",
            "text/plain": "               國文          英文          數學         自然         社會\ncount  100.000000  100.000000  100.000000  100.00000  100.00000\nmean    11.390000   11.380000   11.570000   11.03000   11.83000\nstd      2.196853    2.273164    2.310516    2.21772    2.48655\nmin      8.000000    8.000000    8.000000    8.00000    8.00000\n25%      9.000000    9.000000   10.000000    9.00000    9.00000\n50%     11.000000   11.000000   11.000000   11.00000   12.00000\n75%     13.000000   13.000000   14.000000   13.00000   14.00000\nmax     15.000000   15.000000   15.000000   15.00000   15.00000"
          },
          "execution_count": 35,
          "metadata": {},
          "output_type": "execute_result"
        }
      ]
    },
    {
      "metadata": {
        "trusted": false
      },
      "cell_type": "code",
      "source": "df.corr() #相關係數",
      "execution_count": 37,
      "outputs": [
        {
          "data": {
            "text/html": "<div>\n<style>\n    .dataframe thead tr:only-child th {\n        text-align: right;\n    }\n\n    .dataframe thead th {\n        text-align: left;\n    }\n\n    .dataframe tbody tr th {\n        vertical-align: top;\n    }\n</style>\n<table border=\"1\" class=\"dataframe\">\n  <thead>\n    <tr style=\"text-align: right;\">\n      <th></th>\n      <th>國文</th>\n      <th>英文</th>\n      <th>數學</th>\n      <th>自然</th>\n      <th>社會</th>\n    </tr>\n  </thead>\n  <tbody>\n    <tr>\n      <th>國文</th>\n      <td>1.000000</td>\n      <td>0.160158</td>\n      <td>-0.310899</td>\n      <td>-0.110236</td>\n      <td>-0.028421</td>\n    </tr>\n    <tr>\n      <th>英文</th>\n      <td>0.160158</td>\n      <td>1.000000</td>\n      <td>0.025656</td>\n      <td>0.113929</td>\n      <td>-0.063512</td>\n    </tr>\n    <tr>\n      <th>數學</th>\n      <td>-0.310899</td>\n      <td>0.025656</td>\n      <td>1.000000</td>\n      <td>0.014371</td>\n      <td>0.041651</td>\n    </tr>\n    <tr>\n      <th>自然</th>\n      <td>-0.110236</td>\n      <td>0.113929</td>\n      <td>0.014371</td>\n      <td>1.000000</td>\n      <td>-0.156594</td>\n    </tr>\n    <tr>\n      <th>社會</th>\n      <td>-0.028421</td>\n      <td>-0.063512</td>\n      <td>0.041651</td>\n      <td>-0.156594</td>\n      <td>1.000000</td>\n    </tr>\n  </tbody>\n</table>\n</div>",
            "text/plain": "          國文        英文        數學        自然        社會\n國文  1.000000  0.160158 -0.310899 -0.110236 -0.028421\n英文  0.160158  1.000000  0.025656  0.113929 -0.063512\n數學 -0.310899  0.025656  1.000000  0.014371  0.041651\n自然 -0.110236  0.113929  0.014371  1.000000 -0.156594\n社會 -0.028421 -0.063512  0.041651 -0.156594  1.000000"
          },
          "execution_count": 37,
          "metadata": {},
          "output_type": "execute_result"
        }
      ]
    },
    {
      "metadata": {
        "trusted": false
      },
      "cell_type": "code",
      "source": "df.國文.corr(df.英文) #相關係數 A vs B",
      "execution_count": 38,
      "outputs": [
        {
          "data": {
            "text/plain": "0.16015801596684315"
          },
          "execution_count": 38,
          "metadata": {},
          "output_type": "execute_result"
        }
      ]
    },
    {
      "metadata": {
        "trusted": false
      },
      "cell_type": "code",
      "source": "df[\"總分\"] = df[[\"國文\",\"英文\",\"數學\",\"自然\",\"社會\"]].sum(1) #新增總分欄位, sum(1)",
      "execution_count": 52,
      "outputs": []
    },
    {
      "metadata": {
        "trusted": false
      },
      "cell_type": "code",
      "source": "df.head()",
      "execution_count": 51,
      "outputs": [
        {
          "data": {
            "text/html": "<div>\n<style>\n    .dataframe thead tr:only-child th {\n        text-align: right;\n    }\n\n    .dataframe thead th {\n        text-align: left;\n    }\n\n    .dataframe tbody tr th {\n        vertical-align: top;\n    }\n</style>\n<table border=\"1\" class=\"dataframe\">\n  <thead>\n    <tr style=\"text-align: right;\">\n      <th></th>\n      <th>姓名</th>\n      <th>國文</th>\n      <th>英文</th>\n      <th>數學</th>\n      <th>自然</th>\n      <th>社會</th>\n      <th>總分</th>\n    </tr>\n  </thead>\n  <tbody>\n    <tr>\n      <th>0</th>\n      <td>劉俊安</td>\n      <td>9</td>\n      <td>10</td>\n      <td>15</td>\n      <td>10</td>\n      <td>13</td>\n      <td>57</td>\n    </tr>\n    <tr>\n      <th>1</th>\n      <td>胡玉華</td>\n      <td>10</td>\n      <td>10</td>\n      <td>10</td>\n      <td>8</td>\n      <td>9</td>\n      <td>47</td>\n    </tr>\n    <tr>\n      <th>2</th>\n      <td>黃淑婷</td>\n      <td>13</td>\n      <td>15</td>\n      <td>8</td>\n      <td>11</td>\n      <td>14</td>\n      <td>61</td>\n    </tr>\n    <tr>\n      <th>3</th>\n      <td>陳上紫</td>\n      <td>10</td>\n      <td>10</td>\n      <td>8</td>\n      <td>9</td>\n      <td>14</td>\n      <td>51</td>\n    </tr>\n    <tr>\n      <th>4</th>\n      <td>崔靜成</td>\n      <td>13</td>\n      <td>12</td>\n      <td>14</td>\n      <td>12</td>\n      <td>13</td>\n      <td>64</td>\n    </tr>\n  </tbody>\n</table>\n</div>",
            "text/plain": "    姓名  國文  英文  數學  自然  社會  總分\n0  劉俊安   9  10  15  10  13  57\n1  胡玉華  10  10  10   8   9  47\n2  黃淑婷  13  15   8  11  14  61\n3  陳上紫  10  10   8   9  14  51\n4  崔靜成  13  12  14  12  13  64"
          },
          "execution_count": 51,
          "metadata": {},
          "output_type": "execute_result"
        }
      ]
    },
    {
      "metadata": {
        "trusted": false
      },
      "cell_type": "code",
      "source": "df[\"主科\"] = df.國文*1.3 + df.英文*1.5",
      "execution_count": 53,
      "outputs": []
    },
    {
      "metadata": {
        "trusted": false
      },
      "cell_type": "code",
      "source": "df.head()",
      "execution_count": 55,
      "outputs": [
        {
          "data": {
            "text/html": "<div>\n<style>\n    .dataframe thead tr:only-child th {\n        text-align: right;\n    }\n\n    .dataframe thead th {\n        text-align: left;\n    }\n\n    .dataframe tbody tr th {\n        vertical-align: top;\n    }\n</style>\n<table border=\"1\" class=\"dataframe\">\n  <thead>\n    <tr style=\"text-align: right;\">\n      <th></th>\n      <th>姓名</th>\n      <th>國文</th>\n      <th>英文</th>\n      <th>數學</th>\n      <th>自然</th>\n      <th>社會</th>\n      <th>總分</th>\n      <th>主科</th>\n    </tr>\n  </thead>\n  <tbody>\n    <tr>\n      <th>0</th>\n      <td>劉俊安</td>\n      <td>9</td>\n      <td>10</td>\n      <td>15</td>\n      <td>10</td>\n      <td>13</td>\n      <td>57</td>\n      <td>26.7</td>\n    </tr>\n    <tr>\n      <th>1</th>\n      <td>胡玉華</td>\n      <td>10</td>\n      <td>10</td>\n      <td>10</td>\n      <td>8</td>\n      <td>9</td>\n      <td>47</td>\n      <td>28.0</td>\n    </tr>\n    <tr>\n      <th>2</th>\n      <td>黃淑婷</td>\n      <td>13</td>\n      <td>15</td>\n      <td>8</td>\n      <td>11</td>\n      <td>14</td>\n      <td>61</td>\n      <td>39.4</td>\n    </tr>\n    <tr>\n      <th>3</th>\n      <td>陳上紫</td>\n      <td>10</td>\n      <td>10</td>\n      <td>8</td>\n      <td>9</td>\n      <td>14</td>\n      <td>51</td>\n      <td>28.0</td>\n    </tr>\n    <tr>\n      <th>4</th>\n      <td>崔靜成</td>\n      <td>13</td>\n      <td>12</td>\n      <td>14</td>\n      <td>12</td>\n      <td>13</td>\n      <td>64</td>\n      <td>34.9</td>\n    </tr>\n  </tbody>\n</table>\n</div>",
            "text/plain": "    姓名  國文  英文  數學  自然  社會  總分    主科\n0  劉俊安   9  10  15  10  13  57  26.7\n1  胡玉華  10  10  10   8   9  47  28.0\n2  黃淑婷  13  15   8  11  14  61  39.4\n3  陳上紫  10  10   8   9  14  51  28.0\n4  崔靜成  13  12  14  12  13  64  34.9"
          },
          "execution_count": 55,
          "metadata": {},
          "output_type": "execute_result"
        }
      ]
    },
    {
      "metadata": {
        "trusted": false
      },
      "cell_type": "code",
      "source": "df.sort_values(by=\"主科\", ascending = False ).head(20) #總分欄位,由小至大排隊",
      "execution_count": 71,
      "outputs": [
        {
          "data": {
            "text/html": "<div>\n<style>\n    .dataframe thead tr:only-child th {\n        text-align: right;\n    }\n\n    .dataframe thead th {\n        text-align: left;\n    }\n\n    .dataframe tbody tr th {\n        vertical-align: top;\n    }\n</style>\n<table border=\"1\" class=\"dataframe\">\n  <thead>\n    <tr style=\"text-align: right;\">\n      <th></th>\n      <th>姓名</th>\n      <th>國文</th>\n      <th>英文</th>\n      <th>數學</th>\n      <th>自然</th>\n      <th>社會</th>\n      <th>總分</th>\n      <th>主科</th>\n    </tr>\n  </thead>\n  <tbody>\n    <tr>\n      <th>54</th>\n      <td>陳怡潔</td>\n      <td>15</td>\n      <td>15</td>\n      <td>9</td>\n      <td>15</td>\n      <td>11</td>\n      <td>65</td>\n      <td>42.0</td>\n    </tr>\n    <tr>\n      <th>33</th>\n      <td>王佳蓉</td>\n      <td>14</td>\n      <td>15</td>\n      <td>9</td>\n      <td>9</td>\n      <td>8</td>\n      <td>55</td>\n      <td>40.7</td>\n    </tr>\n    <tr>\n      <th>28</th>\n      <td>王金鳳</td>\n      <td>15</td>\n      <td>14</td>\n      <td>8</td>\n      <td>12</td>\n      <td>8</td>\n      <td>57</td>\n      <td>40.5</td>\n    </tr>\n    <tr>\n      <th>13</th>\n      <td>黃旭忠</td>\n      <td>15</td>\n      <td>14</td>\n      <td>9</td>\n      <td>12</td>\n      <td>10</td>\n      <td>60</td>\n      <td>40.5</td>\n    </tr>\n    <tr>\n      <th>48</th>\n      <td>陳怡婷</td>\n      <td>15</td>\n      <td>14</td>\n      <td>12</td>\n      <td>9</td>\n      <td>15</td>\n      <td>65</td>\n      <td>40.5</td>\n    </tr>\n    <tr>\n      <th>2</th>\n      <td>黃淑婷</td>\n      <td>13</td>\n      <td>15</td>\n      <td>8</td>\n      <td>11</td>\n      <td>14</td>\n      <td>61</td>\n      <td>39.4</td>\n    </tr>\n    <tr>\n      <th>73</th>\n      <td>吳志遠</td>\n      <td>13</td>\n      <td>15</td>\n      <td>15</td>\n      <td>8</td>\n      <td>8</td>\n      <td>59</td>\n      <td>39.4</td>\n    </tr>\n    <tr>\n      <th>80</th>\n      <td>施雅鈴</td>\n      <td>13</td>\n      <td>15</td>\n      <td>12</td>\n      <td>13</td>\n      <td>13</td>\n      <td>66</td>\n      <td>39.4</td>\n    </tr>\n    <tr>\n      <th>41</th>\n      <td>曲秀芬</td>\n      <td>14</td>\n      <td>14</td>\n      <td>8</td>\n      <td>9</td>\n      <td>15</td>\n      <td>60</td>\n      <td>39.2</td>\n    </tr>\n    <tr>\n      <th>57</th>\n      <td>胡淳茜</td>\n      <td>12</td>\n      <td>15</td>\n      <td>14</td>\n      <td>13</td>\n      <td>11</td>\n      <td>65</td>\n      <td>38.1</td>\n    </tr>\n    <tr>\n      <th>43</th>\n      <td>林士茜</td>\n      <td>12</td>\n      <td>15</td>\n      <td>9</td>\n      <td>9</td>\n      <td>13</td>\n      <td>58</td>\n      <td>38.1</td>\n    </tr>\n    <tr>\n      <th>65</th>\n      <td>謝雅琳</td>\n      <td>13</td>\n      <td>14</td>\n      <td>13</td>\n      <td>12</td>\n      <td>9</td>\n      <td>61</td>\n      <td>37.9</td>\n    </tr>\n    <tr>\n      <th>31</th>\n      <td>林秀娟</td>\n      <td>15</td>\n      <td>12</td>\n      <td>9</td>\n      <td>9</td>\n      <td>15</td>\n      <td>60</td>\n      <td>37.5</td>\n    </tr>\n    <tr>\n      <th>12</th>\n      <td>李正偉</td>\n      <td>11</td>\n      <td>15</td>\n      <td>11</td>\n      <td>14</td>\n      <td>15</td>\n      <td>66</td>\n      <td>36.8</td>\n    </tr>\n    <tr>\n      <th>22</th>\n      <td>沈昆純</td>\n      <td>12</td>\n      <td>14</td>\n      <td>10</td>\n      <td>9</td>\n      <td>9</td>\n      <td>54</td>\n      <td>36.6</td>\n    </tr>\n    <tr>\n      <th>44</th>\n      <td>童心怡</td>\n      <td>13</td>\n      <td>13</td>\n      <td>14</td>\n      <td>8</td>\n      <td>13</td>\n      <td>61</td>\n      <td>36.4</td>\n    </tr>\n    <tr>\n      <th>89</th>\n      <td>郭順誠</td>\n      <td>13</td>\n      <td>13</td>\n      <td>10</td>\n      <td>14</td>\n      <td>9</td>\n      <td>59</td>\n      <td>36.4</td>\n    </tr>\n    <tr>\n      <th>25</th>\n      <td>蔡亦瑄</td>\n      <td>13</td>\n      <td>13</td>\n      <td>14</td>\n      <td>13</td>\n      <td>12</td>\n      <td>65</td>\n      <td>36.4</td>\n    </tr>\n    <tr>\n      <th>46</th>\n      <td>柳菁蘭</td>\n      <td>14</td>\n      <td>12</td>\n      <td>10</td>\n      <td>8</td>\n      <td>14</td>\n      <td>58</td>\n      <td>36.2</td>\n    </tr>\n    <tr>\n      <th>60</th>\n      <td>曾昇喬</td>\n      <td>14</td>\n      <td>12</td>\n      <td>11</td>\n      <td>8</td>\n      <td>15</td>\n      <td>60</td>\n      <td>36.2</td>\n    </tr>\n  </tbody>\n</table>\n</div>",
            "text/plain": "     姓名  國文  英文  數學  自然  社會  總分    主科\n54  陳怡潔  15  15   9  15  11  65  42.0\n33  王佳蓉  14  15   9   9   8  55  40.7\n28  王金鳳  15  14   8  12   8  57  40.5\n13  黃旭忠  15  14   9  12  10  60  40.5\n48  陳怡婷  15  14  12   9  15  65  40.5\n2   黃淑婷  13  15   8  11  14  61  39.4\n73  吳志遠  13  15  15   8   8  59  39.4\n80  施雅鈴  13  15  12  13  13  66  39.4\n41  曲秀芬  14  14   8   9  15  60  39.2\n57  胡淳茜  12  15  14  13  11  65  38.1\n43  林士茜  12  15   9   9  13  58  38.1\n65  謝雅琳  13  14  13  12   9  61  37.9\n31  林秀娟  15  12   9   9  15  60  37.5\n12  李正偉  11  15  11  14  15  66  36.8\n22  沈昆純  12  14  10   9   9  54  36.6\n44  童心怡  13  13  14   8  13  61  36.4\n89  郭順誠  13  13  10  14   9  59  36.4\n25  蔡亦瑄  13  13  14  13  12  65  36.4\n46  柳菁蘭  14  12  10   8  14  58  36.2\n60  曾昇喬  14  12  11   8  15  60  36.2"
          },
          "execution_count": 71,
          "metadata": {},
          "output_type": "execute_result"
        }
      ]
    },
    {
      "metadata": {
        "trusted": false
      },
      "cell_type": "code",
      "source": "df.sort_values(by=\"總分\").head(20) #總分欄位,由小至大排隊",
      "execution_count": 72,
      "outputs": [
        {
          "data": {
            "text/html": "<div>\n<style>\n    .dataframe thead tr:only-child th {\n        text-align: right;\n    }\n\n    .dataframe thead th {\n        text-align: left;\n    }\n\n    .dataframe tbody tr th {\n        vertical-align: top;\n    }\n</style>\n<table border=\"1\" class=\"dataframe\">\n  <thead>\n    <tr style=\"text-align: right;\">\n      <th></th>\n      <th>姓名</th>\n      <th>國文</th>\n      <th>英文</th>\n      <th>數學</th>\n      <th>自然</th>\n      <th>社會</th>\n      <th>總分</th>\n      <th>主科</th>\n    </tr>\n  </thead>\n  <tbody>\n    <tr>\n      <th>18</th>\n      <td>梁慧君</td>\n      <td>9</td>\n      <td>8</td>\n      <td>8</td>\n      <td>8</td>\n      <td>12</td>\n      <td>45</td>\n      <td>23.7</td>\n    </tr>\n    <tr>\n      <th>7</th>\n      <td>林金鳳</td>\n      <td>8</td>\n      <td>9</td>\n      <td>10</td>\n      <td>10</td>\n      <td>8</td>\n      <td>45</td>\n      <td>23.9</td>\n    </tr>\n    <tr>\n      <th>1</th>\n      <td>胡玉華</td>\n      <td>10</td>\n      <td>10</td>\n      <td>10</td>\n      <td>8</td>\n      <td>9</td>\n      <td>47</td>\n      <td>28.0</td>\n    </tr>\n    <tr>\n      <th>32</th>\n      <td>林建亨</td>\n      <td>9</td>\n      <td>11</td>\n      <td>8</td>\n      <td>8</td>\n      <td>11</td>\n      <td>47</td>\n      <td>28.2</td>\n    </tr>\n    <tr>\n      <th>93</th>\n      <td>李曼夢</td>\n      <td>11</td>\n      <td>9</td>\n      <td>11</td>\n      <td>8</td>\n      <td>8</td>\n      <td>47</td>\n      <td>27.8</td>\n    </tr>\n    <tr>\n      <th>21</th>\n      <td>黃奕霞</td>\n      <td>9</td>\n      <td>8</td>\n      <td>11</td>\n      <td>13</td>\n      <td>8</td>\n      <td>49</td>\n      <td>23.7</td>\n    </tr>\n    <tr>\n      <th>72</th>\n      <td>陳欣玲</td>\n      <td>10</td>\n      <td>9</td>\n      <td>13</td>\n      <td>8</td>\n      <td>10</td>\n      <td>50</td>\n      <td>26.5</td>\n    </tr>\n    <tr>\n      <th>8</th>\n      <td>許協旺</td>\n      <td>9</td>\n      <td>9</td>\n      <td>12</td>\n      <td>10</td>\n      <td>10</td>\n      <td>50</td>\n      <td>25.2</td>\n    </tr>\n    <tr>\n      <th>84</th>\n      <td>胡凱琳</td>\n      <td>10</td>\n      <td>8</td>\n      <td>9</td>\n      <td>9</td>\n      <td>15</td>\n      <td>51</td>\n      <td>25.0</td>\n    </tr>\n    <tr>\n      <th>71</th>\n      <td>葉必盈</td>\n      <td>9</td>\n      <td>8</td>\n      <td>13</td>\n      <td>9</td>\n      <td>12</td>\n      <td>51</td>\n      <td>23.7</td>\n    </tr>\n    <tr>\n      <th>45</th>\n      <td>謝亮夫</td>\n      <td>9</td>\n      <td>8</td>\n      <td>14</td>\n      <td>11</td>\n      <td>9</td>\n      <td>51</td>\n      <td>23.7</td>\n    </tr>\n    <tr>\n      <th>38</th>\n      <td>吳文伯</td>\n      <td>8</td>\n      <td>8</td>\n      <td>8</td>\n      <td>15</td>\n      <td>12</td>\n      <td>51</td>\n      <td>22.4</td>\n    </tr>\n    <tr>\n      <th>3</th>\n      <td>陳上紫</td>\n      <td>10</td>\n      <td>10</td>\n      <td>8</td>\n      <td>9</td>\n      <td>14</td>\n      <td>51</td>\n      <td>28.0</td>\n    </tr>\n    <tr>\n      <th>75</th>\n      <td>宋美珠</td>\n      <td>13</td>\n      <td>8</td>\n      <td>9</td>\n      <td>10</td>\n      <td>11</td>\n      <td>51</td>\n      <td>28.9</td>\n    </tr>\n    <tr>\n      <th>62</th>\n      <td>許立偉</td>\n      <td>8</td>\n      <td>10</td>\n      <td>10</td>\n      <td>15</td>\n      <td>9</td>\n      <td>52</td>\n      <td>25.4</td>\n    </tr>\n    <tr>\n      <th>61</th>\n      <td>周筠菁</td>\n      <td>14</td>\n      <td>8</td>\n      <td>8</td>\n      <td>11</td>\n      <td>12</td>\n      <td>53</td>\n      <td>30.2</td>\n    </tr>\n    <tr>\n      <th>30</th>\n      <td>連瑋玲</td>\n      <td>8</td>\n      <td>10</td>\n      <td>14</td>\n      <td>8</td>\n      <td>13</td>\n      <td>53</td>\n      <td>25.4</td>\n    </tr>\n    <tr>\n      <th>27</th>\n      <td>馮白屏</td>\n      <td>8</td>\n      <td>13</td>\n      <td>14</td>\n      <td>8</td>\n      <td>10</td>\n      <td>53</td>\n      <td>29.9</td>\n    </tr>\n    <tr>\n      <th>16</th>\n      <td>吳芝菁</td>\n      <td>14</td>\n      <td>9</td>\n      <td>11</td>\n      <td>10</td>\n      <td>9</td>\n      <td>53</td>\n      <td>31.7</td>\n    </tr>\n    <tr>\n      <th>40</th>\n      <td>吳欣強</td>\n      <td>12</td>\n      <td>13</td>\n      <td>8</td>\n      <td>11</td>\n      <td>9</td>\n      <td>53</td>\n      <td>35.1</td>\n    </tr>\n  </tbody>\n</table>\n</div>",
            "text/plain": "     姓名  國文  英文  數學  自然  社會  總分    主科\n18  梁慧君   9   8   8   8  12  45  23.7\n7   林金鳳   8   9  10  10   8  45  23.9\n1   胡玉華  10  10  10   8   9  47  28.0\n32  林建亨   9  11   8   8  11  47  28.2\n93  李曼夢  11   9  11   8   8  47  27.8\n21  黃奕霞   9   8  11  13   8  49  23.7\n72  陳欣玲  10   9  13   8  10  50  26.5\n8   許協旺   9   9  12  10  10  50  25.2\n84  胡凱琳  10   8   9   9  15  51  25.0\n71  葉必盈   9   8  13   9  12  51  23.7\n45  謝亮夫   9   8  14  11   9  51  23.7\n38  吳文伯   8   8   8  15  12  51  22.4\n3   陳上紫  10  10   8   9  14  51  28.0\n75  宋美珠  13   8   9  10  11  51  28.9\n62  許立偉   8  10  10  15   9  52  25.4\n61  周筠菁  14   8   8  11  12  53  30.2\n30  連瑋玲   8  10  14   8  13  53  25.4\n27  馮白屏   8  13  14   8  10  53  29.9\n16  吳芝菁  14   9  11  10   9  53  31.7\n40  吳欣強  12  13   8  11   9  53  35.1"
          },
          "execution_count": 72,
          "metadata": {},
          "output_type": "execute_result"
        }
      ]
    },
    {
      "metadata": {
        "trusted": false
      },
      "cell_type": "code",
      "source": "df.sort_values(by=[\"總分\",\"主科\"], ascending=False).head(20) #先排序總分,再排序主科",
      "execution_count": 75,
      "outputs": [
        {
          "data": {
            "text/html": "<div>\n<style>\n    .dataframe thead tr:only-child th {\n        text-align: right;\n    }\n\n    .dataframe thead th {\n        text-align: left;\n    }\n\n    .dataframe tbody tr th {\n        vertical-align: top;\n    }\n</style>\n<table border=\"1\" class=\"dataframe\">\n  <thead>\n    <tr style=\"text-align: right;\">\n      <th></th>\n      <th>姓名</th>\n      <th>國文</th>\n      <th>英文</th>\n      <th>數學</th>\n      <th>自然</th>\n      <th>社會</th>\n      <th>總分</th>\n      <th>主科</th>\n    </tr>\n  </thead>\n  <tbody>\n    <tr>\n      <th>80</th>\n      <td>施雅鈴</td>\n      <td>13</td>\n      <td>15</td>\n      <td>12</td>\n      <td>13</td>\n      <td>13</td>\n      <td>66</td>\n      <td>39.4</td>\n    </tr>\n    <tr>\n      <th>12</th>\n      <td>李正偉</td>\n      <td>11</td>\n      <td>15</td>\n      <td>11</td>\n      <td>14</td>\n      <td>15</td>\n      <td>66</td>\n      <td>36.8</td>\n    </tr>\n    <tr>\n      <th>54</th>\n      <td>陳怡潔</td>\n      <td>15</td>\n      <td>15</td>\n      <td>9</td>\n      <td>15</td>\n      <td>11</td>\n      <td>65</td>\n      <td>42.0</td>\n    </tr>\n    <tr>\n      <th>48</th>\n      <td>陳怡婷</td>\n      <td>15</td>\n      <td>14</td>\n      <td>12</td>\n      <td>9</td>\n      <td>15</td>\n      <td>65</td>\n      <td>40.5</td>\n    </tr>\n    <tr>\n      <th>57</th>\n      <td>胡淳茜</td>\n      <td>12</td>\n      <td>15</td>\n      <td>14</td>\n      <td>13</td>\n      <td>11</td>\n      <td>65</td>\n      <td>38.1</td>\n    </tr>\n    <tr>\n      <th>25</th>\n      <td>蔡亦瑄</td>\n      <td>13</td>\n      <td>13</td>\n      <td>14</td>\n      <td>13</td>\n      <td>12</td>\n      <td>65</td>\n      <td>36.4</td>\n    </tr>\n    <tr>\n      <th>83</th>\n      <td>李士賢</td>\n      <td>10</td>\n      <td>14</td>\n      <td>15</td>\n      <td>13</td>\n      <td>13</td>\n      <td>65</td>\n      <td>34.0</td>\n    </tr>\n    <tr>\n      <th>64</th>\n      <td>俞志峰</td>\n      <td>9</td>\n      <td>14</td>\n      <td>13</td>\n      <td>14</td>\n      <td>15</td>\n      <td>65</td>\n      <td>32.7</td>\n    </tr>\n    <tr>\n      <th>87</th>\n      <td>趙偉希</td>\n      <td>10</td>\n      <td>13</td>\n      <td>14</td>\n      <td>13</td>\n      <td>15</td>\n      <td>65</td>\n      <td>32.5</td>\n    </tr>\n    <tr>\n      <th>37</th>\n      <td>曾怡君</td>\n      <td>11</td>\n      <td>12</td>\n      <td>15</td>\n      <td>13</td>\n      <td>14</td>\n      <td>65</td>\n      <td>32.3</td>\n    </tr>\n    <tr>\n      <th>36</th>\n      <td>詹威德</td>\n      <td>12</td>\n      <td>13</td>\n      <td>15</td>\n      <td>10</td>\n      <td>14</td>\n      <td>64</td>\n      <td>35.1</td>\n    </tr>\n    <tr>\n      <th>4</th>\n      <td>崔靜成</td>\n      <td>13</td>\n      <td>12</td>\n      <td>14</td>\n      <td>12</td>\n      <td>13</td>\n      <td>64</td>\n      <td>34.9</td>\n    </tr>\n    <tr>\n      <th>68</th>\n      <td>劉麗芬</td>\n      <td>8</td>\n      <td>14</td>\n      <td>14</td>\n      <td>14</td>\n      <td>14</td>\n      <td>64</td>\n      <td>31.4</td>\n    </tr>\n    <tr>\n      <th>11</th>\n      <td>周皇樺</td>\n      <td>13</td>\n      <td>9</td>\n      <td>13</td>\n      <td>14</td>\n      <td>15</td>\n      <td>64</td>\n      <td>30.4</td>\n    </tr>\n    <tr>\n      <th>67</th>\n      <td>林哲法</td>\n      <td>14</td>\n      <td>9</td>\n      <td>15</td>\n      <td>10</td>\n      <td>14</td>\n      <td>62</td>\n      <td>31.7</td>\n    </tr>\n    <tr>\n      <th>20</th>\n      <td>陳智超</td>\n      <td>13</td>\n      <td>9</td>\n      <td>13</td>\n      <td>14</td>\n      <td>13</td>\n      <td>62</td>\n      <td>30.4</td>\n    </tr>\n    <tr>\n      <th>2</th>\n      <td>黃淑婷</td>\n      <td>13</td>\n      <td>15</td>\n      <td>8</td>\n      <td>11</td>\n      <td>14</td>\n      <td>61</td>\n      <td>39.4</td>\n    </tr>\n    <tr>\n      <th>65</th>\n      <td>謝雅琳</td>\n      <td>13</td>\n      <td>14</td>\n      <td>13</td>\n      <td>12</td>\n      <td>9</td>\n      <td>61</td>\n      <td>37.9</td>\n    </tr>\n    <tr>\n      <th>44</th>\n      <td>童心怡</td>\n      <td>13</td>\n      <td>13</td>\n      <td>14</td>\n      <td>8</td>\n      <td>13</td>\n      <td>61</td>\n      <td>36.4</td>\n    </tr>\n    <tr>\n      <th>51</th>\n      <td>劉彥斌</td>\n      <td>14</td>\n      <td>11</td>\n      <td>11</td>\n      <td>12</td>\n      <td>13</td>\n      <td>61</td>\n      <td>34.7</td>\n    </tr>\n  </tbody>\n</table>\n</div>",
            "text/plain": "     姓名  國文  英文  數學  自然  社會  總分    主科\n80  施雅鈴  13  15  12  13  13  66  39.4\n12  李正偉  11  15  11  14  15  66  36.8\n54  陳怡潔  15  15   9  15  11  65  42.0\n48  陳怡婷  15  14  12   9  15  65  40.5\n57  胡淳茜  12  15  14  13  11  65  38.1\n25  蔡亦瑄  13  13  14  13  12  65  36.4\n83  李士賢  10  14  15  13  13  65  34.0\n64  俞志峰   9  14  13  14  15  65  32.7\n87  趙偉希  10  13  14  13  15  65  32.5\n37  曾怡君  11  12  15  13  14  65  32.3\n36  詹威德  12  13  15  10  14  64  35.1\n4   崔靜成  13  12  14  12  13  64  34.9\n68  劉麗芬   8  14  14  14  14  64  31.4\n11  周皇樺  13   9  13  14  15  64  30.4\n67  林哲法  14   9  15  10  14  62  31.7\n20  陳智超  13   9  13  14  13  62  30.4\n2   黃淑婷  13  15   8  11  14  61  39.4\n65  謝雅琳  13  14  13  12   9  61  37.9\n44  童心怡  13  13  14   8  13  61  36.4\n51  劉彥斌  14  11  11  12  13  61  34.7"
          },
          "execution_count": 75,
          "metadata": {},
          "output_type": "execute_result"
        }
      ]
    },
    {
      "metadata": {},
      "cell_type": "markdown",
      "source": "## 自建dataframe "
    },
    {
      "metadata": {
        "trusted": false
      },
      "cell_type": "code",
      "source": "mydata = np.random.randn(4,3) #產生一個4x3的矩陣",
      "execution_count": 79,
      "outputs": []
    },
    {
      "metadata": {
        "trusted": false
      },
      "cell_type": "code",
      "source": "list(\"甲乙丙丁\") #字串和list轉換",
      "execution_count": 82,
      "outputs": [
        {
          "data": {
            "text/plain": "['甲', '乙', '丙', '丁']"
          },
          "execution_count": 82,
          "metadata": {},
          "output_type": "execute_result"
        }
      ]
    },
    {
      "metadata": {
        "trusted": false
      },
      "cell_type": "code",
      "source": "df1 = pd.DataFrame(mydata, columns = list(\"ABC\")) #bulkt a new dataframe, columns metadata = abc",
      "execution_count": 89,
      "outputs": []
    },
    {
      "metadata": {
        "trusted": false
      },
      "cell_type": "code",
      "source": "df2 = pd.DataFrame(np.random.randn(3,3), columns = list(\"ABC\")) #bulkt a new dataframe, columns metadata = abc",
      "execution_count": 90,
      "outputs": []
    },
    {
      "metadata": {
        "trusted": false
      },
      "cell_type": "code",
      "source": "df3 = pd.concat([df1,df2], axis=0 ) #合併兩個dataframe, 合併方向為0(列方向)",
      "execution_count": 94,
      "outputs": []
    },
    {
      "metadata": {
        "trusted": false
      },
      "cell_type": "code",
      "source": "df3",
      "execution_count": 93,
      "outputs": [
        {
          "data": {
            "text/html": "<div>\n<style>\n    .dataframe thead tr:only-child th {\n        text-align: right;\n    }\n\n    .dataframe thead th {\n        text-align: left;\n    }\n\n    .dataframe tbody tr th {\n        vertical-align: top;\n    }\n</style>\n<table border=\"1\" class=\"dataframe\">\n  <thead>\n    <tr style=\"text-align: right;\">\n      <th></th>\n      <th>A</th>\n      <th>B</th>\n      <th>C</th>\n    </tr>\n  </thead>\n  <tbody>\n    <tr>\n      <th>0</th>\n      <td>-1.416469</td>\n      <td>-0.610313</td>\n      <td>-2.090462</td>\n    </tr>\n    <tr>\n      <th>1</th>\n      <td>-0.384619</td>\n      <td>0.299077</td>\n      <td>0.496484</td>\n    </tr>\n    <tr>\n      <th>2</th>\n      <td>-1.155002</td>\n      <td>1.072808</td>\n      <td>1.389324</td>\n    </tr>\n    <tr>\n      <th>3</th>\n      <td>-0.227357</td>\n      <td>-0.908301</td>\n      <td>-0.623477</td>\n    </tr>\n    <tr>\n      <th>0</th>\n      <td>-1.220786</td>\n      <td>0.430546</td>\n      <td>1.977828</td>\n    </tr>\n    <tr>\n      <th>1</th>\n      <td>0.882075</td>\n      <td>0.474446</td>\n      <td>0.524053</td>\n    </tr>\n    <tr>\n      <th>2</th>\n      <td>0.830410</td>\n      <td>-0.768981</td>\n      <td>0.246598</td>\n    </tr>\n  </tbody>\n</table>\n</div>",
            "text/plain": "          A         B         C\n0 -1.416469 -0.610313 -2.090462\n1 -0.384619  0.299077  0.496484\n2 -1.155002  1.072808  1.389324\n3 -0.227357 -0.908301 -0.623477\n0 -1.220786  0.430546  1.977828\n1  0.882075  0.474446  0.524053\n2  0.830410 -0.768981  0.246598"
          },
          "execution_count": 93,
          "metadata": {},
          "output_type": "execute_result"
        }
      ]
    },
    {
      "metadata": {
        "trusted": false
      },
      "cell_type": "code",
      "source": "df3.index = range(7) #index欄位重新命名",
      "execution_count": 100,
      "outputs": []
    },
    {
      "metadata": {
        "trusted": false
      },
      "cell_type": "code",
      "source": "df3",
      "execution_count": 99,
      "outputs": [
        {
          "data": {
            "text/html": "<div>\n<style>\n    .dataframe thead tr:only-child th {\n        text-align: right;\n    }\n\n    .dataframe thead th {\n        text-align: left;\n    }\n\n    .dataframe tbody tr th {\n        vertical-align: top;\n    }\n</style>\n<table border=\"1\" class=\"dataframe\">\n  <thead>\n    <tr style=\"text-align: right;\">\n      <th></th>\n      <th>A</th>\n      <th>B</th>\n      <th>C</th>\n    </tr>\n  </thead>\n  <tbody>\n    <tr>\n      <th>0</th>\n      <td>-1.416469</td>\n      <td>-0.610313</td>\n      <td>-2.090462</td>\n    </tr>\n    <tr>\n      <th>1</th>\n      <td>-0.384619</td>\n      <td>0.299077</td>\n      <td>0.496484</td>\n    </tr>\n    <tr>\n      <th>2</th>\n      <td>-1.155002</td>\n      <td>1.072808</td>\n      <td>1.389324</td>\n    </tr>\n    <tr>\n      <th>3</th>\n      <td>-0.227357</td>\n      <td>-0.908301</td>\n      <td>-0.623477</td>\n    </tr>\n    <tr>\n      <th>4</th>\n      <td>-1.220786</td>\n      <td>0.430546</td>\n      <td>1.977828</td>\n    </tr>\n    <tr>\n      <th>5</th>\n      <td>0.882075</td>\n      <td>0.474446</td>\n      <td>0.524053</td>\n    </tr>\n    <tr>\n      <th>6</th>\n      <td>0.830410</td>\n      <td>-0.768981</td>\n      <td>0.246598</td>\n    </tr>\n  </tbody>\n</table>\n</div>",
            "text/plain": "          A         B         C\n0 -1.416469 -0.610313 -2.090462\n1 -0.384619  0.299077  0.496484\n2 -1.155002  1.072808  1.389324\n3 -0.227357 -0.908301 -0.623477\n4 -1.220786  0.430546  1.977828\n5  0.882075  0.474446  0.524053\n6  0.830410 -0.768981  0.246598"
          },
          "execution_count": 99,
          "metadata": {},
          "output_type": "execute_result"
        }
      ]
    },
    {
      "metadata": {
        "trusted": false
      },
      "cell_type": "code",
      "source": "df4 = pd.concat([df1,df2], axis=1 ) #合併兩個dataframe, 合併方向為1(行方向)",
      "execution_count": 101,
      "outputs": []
    },
    {
      "metadata": {
        "scrolled": true,
        "trusted": false
      },
      "cell_type": "code",
      "source": "df4",
      "execution_count": 102,
      "outputs": [
        {
          "data": {
            "text/html": "<div>\n<style>\n    .dataframe thead tr:only-child th {\n        text-align: right;\n    }\n\n    .dataframe thead th {\n        text-align: left;\n    }\n\n    .dataframe tbody tr th {\n        vertical-align: top;\n    }\n</style>\n<table border=\"1\" class=\"dataframe\">\n  <thead>\n    <tr style=\"text-align: right;\">\n      <th></th>\n      <th>A</th>\n      <th>B</th>\n      <th>C</th>\n      <th>A</th>\n      <th>B</th>\n      <th>C</th>\n    </tr>\n  </thead>\n  <tbody>\n    <tr>\n      <th>0</th>\n      <td>-1.416469</td>\n      <td>-0.610313</td>\n      <td>-2.090462</td>\n      <td>-1.220786</td>\n      <td>0.430546</td>\n      <td>1.977828</td>\n    </tr>\n    <tr>\n      <th>1</th>\n      <td>-0.384619</td>\n      <td>0.299077</td>\n      <td>0.496484</td>\n      <td>0.882075</td>\n      <td>0.474446</td>\n      <td>0.524053</td>\n    </tr>\n    <tr>\n      <th>2</th>\n      <td>-1.155002</td>\n      <td>1.072808</td>\n      <td>1.389324</td>\n      <td>0.830410</td>\n      <td>-0.768981</td>\n      <td>0.246598</td>\n    </tr>\n    <tr>\n      <th>3</th>\n      <td>-0.227357</td>\n      <td>-0.908301</td>\n      <td>-0.623477</td>\n      <td>NaN</td>\n      <td>NaN</td>\n      <td>NaN</td>\n    </tr>\n  </tbody>\n</table>\n</div>",
            "text/plain": "          A         B         C         A         B         C\n0 -1.416469 -0.610313 -2.090462 -1.220786  0.430546  1.977828\n1 -0.384619  0.299077  0.496484  0.882075  0.474446  0.524053\n2 -1.155002  1.072808  1.389324  0.830410 -0.768981  0.246598\n3 -0.227357 -0.908301 -0.623477       NaN       NaN       NaN"
          },
          "execution_count": 102,
          "metadata": {},
          "output_type": "execute_result"
        }
      ]
    },
    {
      "metadata": {},
      "cell_type": "markdown",
      "source": ""
    },
    {
      "metadata": {
        "trusted": false
      },
      "cell_type": "code",
      "source": "",
      "execution_count": null,
      "outputs": []
    }
  ],
  "metadata": {
    "kernelspec": {
      "name": "python36",
      "display_name": "Python 3.6",
      "language": "python"
    },
    "language_info": {
      "mimetype": "text/x-python",
      "nbconvert_exporter": "python",
      "name": "python",
      "pygments_lexer": "ipython3",
      "version": "3.6.3",
      "file_extension": ".py",
      "codemirror_mode": {
        "version": 3,
        "name": "ipython"
      }
    }
  },
  "nbformat": 4,
  "nbformat_minor": 2
}